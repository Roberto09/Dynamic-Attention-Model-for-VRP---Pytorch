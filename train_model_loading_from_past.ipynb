{
 "cells": [
  {
   "cell_type": "code",
   "execution_count": 1,
   "id": "known-strip",
   "metadata": {
    "scrolled": false
   },
   "outputs": [
    {
     "name": "stdout",
     "output_type": "stream",
     "text": [
      "2021-03-26 19:10:11 model initialized\n",
      "2021-03-26 19:10:11 validation dataset created and saved on the disk\n"
     ]
    },
    {
     "name": "stderr",
     "output_type": "stream",
     "text": [
      "\r",
      "Rollout greedy execution:   0%|          | 0/10 [00:00<?, ?it/s]"
     ]
    },
    {
     "name": "stdout",
     "output_type": "stream",
     "text": [
      "Evaluating baseline model on baseline dataset (epoch = 0)\n"
     ]
    },
    {
     "name": "stderr",
     "output_type": "stream",
     "text": [
      "Rollout greedy execution: 100%|██████████| 10/10 [00:24<00:00,  2.40s/it]\n",
      "batch calculation at epoch 0: 0it [00:00, ?it/s]"
     ]
    },
    {
     "name": "stdout",
     "output_type": "stream",
     "text": [
      "2021-03-26 19:10:35 baseline initialized\n",
      "Current decode type: sampling\n"
     ]
    },
    {
     "name": "stderr",
     "output_type": "stream",
     "text": [
      "\r",
      "batch calculation at epoch 0: 1it [00:00,  2.44it/s]"
     ]
    },
    {
     "name": "stdout",
     "output_type": "stream",
     "text": [
      "grad_global_norm = 8.214703559875488, clipped_norm = 0.9999999403953552\n",
      "Epoch 0 (batch = 0): Loss: -1.9618492126464844: Cost: 30.95294189453125\n"
     ]
    },
    {
     "name": "stderr",
     "output_type": "stream",
     "text": [
      "batch calculation at epoch 0: 4it [00:01,  2.80it/s]\n",
      "Rollout greedy execution:   0%|          | 0/10 [00:00<?, ?it/s]"
     ]
    },
    {
     "name": "stdout",
     "output_type": "stream",
     "text": [
      "Evaluating candidate model on baseline dataset (callback epoch = 0)\n"
     ]
    },
    {
     "name": "stderr",
     "output_type": "stream",
     "text": [
      "Rollout greedy execution: 100%|██████████| 10/10 [00:04<00:00,  2.01it/s]\n",
      "Rollout greedy execution:   0%|          | 0/10 [00:00<?, ?it/s]"
     ]
    },
    {
     "name": "stdout",
     "output_type": "stream",
     "text": [
      "Epoch 0 candidate mean 21.99625015258789, baseline epoch 0 mean 42.76802062988281, difference -20.771770477294922\n",
      "p-value: 0.0\n",
      "Update baseline\n",
      "Evaluating baseline model on baseline dataset (epoch = 0)\n"
     ]
    },
    {
     "name": "stderr",
     "output_type": "stream",
     "text": [
      "Rollout greedy execution: 100%|██████████| 10/10 [00:05<00:00,  1.99it/s]\n",
      "Rollout greedy execution:   0%|          | 0/10 [00:00<?, ?it/s]"
     ]
    },
    {
     "name": "stdout",
     "output_type": "stream",
     "text": [
      "alpha was updated to 1.0\n"
     ]
    },
    {
     "name": "stderr",
     "output_type": "stream",
     "text": [
      "Rollout greedy execution: 100%|██████████| 10/10 [00:05<00:00,  1.94it/s]\n",
      "Rollout greedy execution:   0%|          | 0/1 [00:00<?, ?it/s]"
     ]
    },
    {
     "name": "stdout",
     "output_type": "stream",
     "text": [
      "Validation score: 22.05120086669922\n",
      "2021-03-26 19:10:52 Epoch 0: Loss: 41.46192169189453: Cost: 30.53818702697754\n"
     ]
    },
    {
     "name": "stderr",
     "output_type": "stream",
     "text": [
      "Rollout greedy execution: 100%|██████████| 1/1 [00:00<00:00,  3.42it/s]\n",
      "batch calculation at epoch 1: 0it [00:00, ?it/s]"
     ]
    },
    {
     "name": "stdout",
     "output_type": "stream",
     "text": [
      "Current decode type: sampling\n"
     ]
    },
    {
     "name": "stderr",
     "output_type": "stream",
     "text": [
      "\r",
      "batch calculation at epoch 1: 1it [00:00,  3.10it/s]"
     ]
    },
    {
     "name": "stdout",
     "output_type": "stream",
     "text": [
      "grad_global_norm = 11.186488151550293, clipped_norm = 0.9999999403953552\n",
      "Epoch 1 (batch = 0): Loss: -1141.05322265625: Cost: 30.011714935302734\n"
     ]
    },
    {
     "name": "stderr",
     "output_type": "stream",
     "text": [
      "batch calculation at epoch 1: 4it [00:01,  3.19it/s]\n",
      "Rollout greedy execution:   0%|          | 0/10 [00:00<?, ?it/s]"
     ]
    },
    {
     "name": "stdout",
     "output_type": "stream",
     "text": [
      "Evaluating candidate model on baseline dataset (callback epoch = 1)\n"
     ]
    },
    {
     "name": "stderr",
     "output_type": "stream",
     "text": [
      "Rollout greedy execution: 100%|██████████| 10/10 [00:05<00:00,  1.96it/s]\n",
      "Rollout greedy execution:   0%|          | 0/10 [00:00<?, ?it/s]"
     ]
    },
    {
     "name": "stdout",
     "output_type": "stream",
     "text": [
      "Epoch 1 candidate mean 21.770788192749023, baseline epoch 1 mean 22.057220458984375, difference -0.28643226623535156\n",
      "p-value: 1.733919836345343e-47\n",
      "Update baseline\n",
      "Evaluating baseline model on baseline dataset (epoch = 1)\n"
     ]
    },
    {
     "name": "stderr",
     "output_type": "stream",
     "text": [
      "Rollout greedy execution: 100%|██████████| 10/10 [00:05<00:00,  1.99it/s]\n",
      "Rollout greedy execution: 100%|██████████| 10/10 [00:05<00:00,  1.95it/s]\n",
      "Rollout greedy execution:   0%|          | 0/1 [00:00<?, ?it/s]"
     ]
    },
    {
     "name": "stdout",
     "output_type": "stream",
     "text": [
      "Validation score: 21.776399612426758\n",
      "2021-03-26 19:11:09 Epoch 1: Loss: -1166.8392333984375: Cost: 30.189790725708008\n"
     ]
    },
    {
     "name": "stderr",
     "output_type": "stream",
     "text": [
      "Rollout greedy execution: 100%|██████████| 1/1 [00:00<00:00,  3.36it/s]\n",
      "batch calculation at epoch 2: 0it [00:00, ?it/s]"
     ]
    },
    {
     "name": "stdout",
     "output_type": "stream",
     "text": [
      "Current decode type: sampling\n"
     ]
    },
    {
     "name": "stderr",
     "output_type": "stream",
     "text": [
      "\r",
      "batch calculation at epoch 2: 1it [00:00,  3.38it/s]"
     ]
    },
    {
     "name": "stdout",
     "output_type": "stream",
     "text": [
      "grad_global_norm = 16.040964126586914, clipped_norm = 0.9999997615814209\n",
      "Epoch 2 (batch = 0): Loss: -1121.55859375: Cost: 30.049457550048828\n"
     ]
    },
    {
     "name": "stderr",
     "output_type": "stream",
     "text": [
      "batch calculation at epoch 2: 4it [00:01,  3.50it/s]\n",
      "Rollout greedy execution:   0%|          | 0/10 [00:00<?, ?it/s]"
     ]
    },
    {
     "name": "stdout",
     "output_type": "stream",
     "text": [
      "Evaluating candidate model on baseline dataset (callback epoch = 2)\n"
     ]
    },
    {
     "name": "stderr",
     "output_type": "stream",
     "text": [
      "Rollout greedy execution: 100%|██████████| 10/10 [00:05<00:00,  1.96it/s]\n",
      "Rollout greedy execution:   0%|          | 0/10 [00:00<?, ?it/s]"
     ]
    },
    {
     "name": "stdout",
     "output_type": "stream",
     "text": [
      "Epoch 2 candidate mean 21.610788345336914, baseline epoch 2 mean 21.761016845703125, difference -0.15022850036621094\n",
      "p-value: 2.7741646232917203e-17\n",
      "Update baseline\n",
      "Evaluating baseline model on baseline dataset (epoch = 2)\n"
     ]
    },
    {
     "name": "stderr",
     "output_type": "stream",
     "text": [
      "Rollout greedy execution: 100%|██████████| 10/10 [00:05<00:00,  1.99it/s]\n",
      "Rollout greedy execution: 100%|██████████| 10/10 [00:05<00:00,  1.93it/s]\n",
      "Rollout greedy execution:   0%|          | 0/1 [00:00<?, ?it/s]"
     ]
    },
    {
     "name": "stdout",
     "output_type": "stream",
     "text": [
      "Validation score: 21.654300689697266\n",
      "2021-03-26 19:11:26 Epoch 2: Loss: -1112.0452880859375: Cost: 29.855716705322266\n"
     ]
    },
    {
     "name": "stderr",
     "output_type": "stream",
     "text": [
      "Rollout greedy execution: 100%|██████████| 1/1 [00:00<00:00,  3.30it/s]\n",
      "batch calculation at epoch 3: 0it [00:00, ?it/s]"
     ]
    },
    {
     "name": "stdout",
     "output_type": "stream",
     "text": [
      "Current decode type: sampling\n"
     ]
    },
    {
     "name": "stderr",
     "output_type": "stream",
     "text": [
      "\r",
      "batch calculation at epoch 3: 1it [00:00,  3.53it/s]"
     ]
    },
    {
     "name": "stdout",
     "output_type": "stream",
     "text": [
      "grad_global_norm = 22.69146728515625, clipped_norm = 0.9999999403953552\n",
      "Epoch 3 (batch = 0): Loss: -1128.98486328125: Cost: 29.820785522460938\n"
     ]
    },
    {
     "name": "stderr",
     "output_type": "stream",
     "text": [
      "batch calculation at epoch 3: 4it [00:01,  3.49it/s]\n",
      "Rollout greedy execution:   0%|          | 0/10 [00:00<?, ?it/s]"
     ]
    },
    {
     "name": "stdout",
     "output_type": "stream",
     "text": [
      "Evaluating candidate model on baseline dataset (callback epoch = 3)\n"
     ]
    },
    {
     "name": "stderr",
     "output_type": "stream",
     "text": [
      "Rollout greedy execution: 100%|██████████| 10/10 [00:05<00:00,  2.00it/s]\n",
      "Rollout greedy execution:   0%|          | 0/10 [00:00<?, ?it/s]"
     ]
    },
    {
     "name": "stdout",
     "output_type": "stream",
     "text": [
      "Epoch 3 candidate mean 21.566423416137695, baseline epoch 3 mean 21.653099060058594, difference -0.08667564392089844\n",
      "p-value: 9.340147204613273e-07\n",
      "Update baseline\n",
      "Evaluating baseline model on baseline dataset (epoch = 3)\n"
     ]
    },
    {
     "name": "stderr",
     "output_type": "stream",
     "text": [
      "Rollout greedy execution: 100%|██████████| 10/10 [00:05<00:00,  1.96it/s]\n",
      "Rollout greedy execution: 100%|██████████| 10/10 [00:05<00:00,  1.94it/s]\n",
      "Rollout greedy execution:   0%|          | 0/1 [00:00<?, ?it/s]"
     ]
    },
    {
     "name": "stdout",
     "output_type": "stream",
     "text": [
      "Validation score: 21.551799774169922\n",
      "2021-03-26 19:11:43 Epoch 3: Loss: -1092.665283203125: Cost: 29.523582458496094\n"
     ]
    },
    {
     "name": "stderr",
     "output_type": "stream",
     "text": [
      "Rollout greedy execution: 100%|██████████| 1/1 [00:00<00:00,  3.32it/s]\n",
      "batch calculation at epoch 4: 0it [00:00, ?it/s]"
     ]
    },
    {
     "name": "stdout",
     "output_type": "stream",
     "text": [
      "Current decode type: sampling\n"
     ]
    },
    {
     "name": "stderr",
     "output_type": "stream",
     "text": [
      "\r",
      "batch calculation at epoch 4: 1it [00:00,  3.42it/s]"
     ]
    },
    {
     "name": "stdout",
     "output_type": "stream",
     "text": [
      "grad_global_norm = 19.25543975830078, clipped_norm = 0.9999998211860657\n",
      "Epoch 4 (batch = 0): Loss: -1093.5189208984375: Cost: 29.504804611206055\n"
     ]
    },
    {
     "name": "stderr",
     "output_type": "stream",
     "text": [
      "batch calculation at epoch 4: 4it [00:01,  3.37it/s]\n",
      "Rollout greedy execution:   0%|          | 0/10 [00:00<?, ?it/s]"
     ]
    },
    {
     "name": "stdout",
     "output_type": "stream",
     "text": [
      "Evaluating candidate model on baseline dataset (callback epoch = 4)\n"
     ]
    },
    {
     "name": "stderr",
     "output_type": "stream",
     "text": [
      "Rollout greedy execution: 100%|██████████| 10/10 [00:05<00:00,  1.96it/s]\n",
      "Rollout greedy execution:   0%|          | 0/10 [00:00<?, ?it/s]"
     ]
    },
    {
     "name": "stdout",
     "output_type": "stream",
     "text": [
      "Epoch 4 candidate mean 21.510868072509766, baseline epoch 4 mean 21.51128578186035, difference -0.0004177093505859375\n",
      "p-value: 0.49073425838878293\n"
     ]
    },
    {
     "name": "stderr",
     "output_type": "stream",
     "text": [
      "Rollout greedy execution: 100%|██████████| 10/10 [00:05<00:00,  1.91it/s]\n"
     ]
    },
    {
     "name": "stdout",
     "output_type": "stream",
     "text": [
      "Validation score: 21.54960060119629\n",
      "2021-03-26 19:11:55 Epoch 4: Loss: -1079.27197265625: Cost: 29.373374938964844\n"
     ]
    },
    {
     "data": {
      "image/png": "[encoded data removed]",
      "text/plain": [
       "<Figure size 1080x648 with 2 Axes>"
      ]
     },
     "metadata": {
      "needs_background": "light"
     },
     "output_type": "display_data"
    }
   ],
   "source": [
    "import torch\n",
    "from time import gmtime, strftime\n",
    "\n",
    "from attention_dynamic_model import AttentionDynamicModel, set_decode_type\n",
    "from reinforce_baseline import RolloutBaseline\n",
    "from train import train_model\n",
    "\n",
    "from utils import create_data_on_disk, get_cur_time\n",
    "\n",
    "# Params of model\n",
    "SAMPLES = 512 # 128*10000\n",
    "BATCH = 128\n",
    "START_EPOCH = 0\n",
    "END_EPOCH = 5\n",
    "FROM_CHECKPOINT = False\n",
    "embedding_dim = 128\n",
    "LEARNING_RATE = 0.0001\n",
    "ROLLOUT_SAMPLES = 10000\n",
    "NUMBER_OF_WP_EPOCHS = 1\n",
    "GRAD_NORM_CLIPPING = 1.0\n",
    "BATCH_VERBOSE = 1000\n",
    "VAL_BATCH_SIZE = 1000\n",
    "VALIDATE_SET_SIZE = 10000\n",
    "SEED = 1234\n",
    "GRAPH_SIZE = 50\n",
    "FILENAME = 'VRP_{}_{}'.format(GRAPH_SIZE, strftime(\"%Y-%m-%d\", gmtime()))\n",
    "\n",
    "# Initialize model\n",
    "model = AttentionDynamicModel(embedding_dim).cuda()\n",
    "set_decode_type(model, \"sampling\")\n",
    "print(get_cur_time(), 'model initialized')\n",
    "\n",
    "# Create and save validation dataset\n",
    "validation_dataset = create_data_on_disk(GRAPH_SIZE,\n",
    "                                         VALIDATE_SET_SIZE,\n",
    "                                         is_save=True,\n",
    "                                         filename=FILENAME,\n",
    "                                         is_return=True,\n",
    "                                         seed = SEED)\n",
    "print(get_cur_time(), 'validation dataset created and saved on the disk')\n",
    "\n",
    "# Initialize optimizer\n",
    "optimizer = torch.optim.Adam(params=model.parameters(), lr=LEARNING_RATE)\n",
    "\n",
    "# Initialize baseline\n",
    "baseline = RolloutBaseline(model,\n",
    "                           wp_n_epochs = NUMBER_OF_WP_EPOCHS,\n",
    "                           epoch = 0,\n",
    "                           num_samples=ROLLOUT_SAMPLES,\n",
    "                           filename = FILENAME,\n",
    "                           from_checkpoint = FROM_CHECKPOINT,\n",
    "                           embedding_dim=embedding_dim,\n",
    "                           graph_size=GRAPH_SIZE\n",
    "                           )\n",
    "print(get_cur_time(), 'baseline initialized')\n",
    "\n",
    "train_model(optimizer,\n",
    "            model,\n",
    "            baseline,\n",
    "            validation_dataset,\n",
    "            samples = SAMPLES,\n",
    "            batch = BATCH,\n",
    "            val_batch_size = VAL_BATCH_SIZE,\n",
    "            start_epoch = START_EPOCH,\n",
    "            end_epoch = END_EPOCH,\n",
    "            from_checkpoint = FROM_CHECKPOINT,\n",
    "            grad_norm_clipping = GRAD_NORM_CLIPPING,\n",
    "            batch_verbose = BATCH_VERBOSE,\n",
    "            graph_size = GRAPH_SIZE,\n",
    "            filename = FILENAME\n",
    "            )"
   ]
  },
  {
   "cell_type": "code",
   "execution_count": 2,
   "id": "modular-maria",
   "metadata": {
    "scrolled": false
   },
   "outputs": [
    {
     "name": "stderr",
     "output_type": "stream",
     "text": [
      "\r",
      "Rollout greedy execution:   0%|          | 0/10 [00:00<?, ?it/s]"
     ]
    },
    {
     "name": "stdout",
     "output_type": "stream",
     "text": [
      "2021-03-26 19:13:55 model loaded\n",
      "2021-03-26 19:13:55 validation dataset loaded\n",
      "Baseline model loaded\n",
      "Evaluating baseline model on baseline dataset (epoch = 5)\n"
     ]
    },
    {
     "name": "stderr",
     "output_type": "stream",
     "text": [
      "Rollout greedy execution: 100%|██████████| 10/10 [00:05<00:00,  1.94it/s]\n",
      "Rollout greedy execution:   0%|          | 0/1 [00:00<?, ?it/s]"
     ]
    },
    {
     "name": "stdout",
     "output_type": "stream",
     "text": [
      "2021-03-26 19:14:00 baseline initialized\n",
      "Skipping warm-up mode\n"
     ]
    },
    {
     "name": "stderr",
     "output_type": "stream",
     "text": [
      "Rollout greedy execution: 100%|██████████| 1/1 [00:00<00:00,  3.37it/s]\n",
      "batch calculation at epoch 5: 0it [00:00, ?it/s]"
     ]
    },
    {
     "name": "stdout",
     "output_type": "stream",
     "text": [
      "Current decode type: sampling\n"
     ]
    },
    {
     "name": "stderr",
     "output_type": "stream",
     "text": [
      "\r",
      "batch calculation at epoch 5: 1it [00:00,  3.60it/s]"
     ]
    },
    {
     "name": "stdout",
     "output_type": "stream",
     "text": [
      "grad_global_norm = 23.0097713470459, clipped_norm = 0.9999999403953552\n",
      "Epoch 5 (batch = 0): Loss: -1048.619140625: Cost: 29.398412704467773\n"
     ]
    },
    {
     "name": "stderr",
     "output_type": "stream",
     "text": [
      "batch calculation at epoch 5: 4it [00:01,  3.66it/s]\n",
      "Rollout greedy execution:   0%|          | 0/10 [00:00<?, ?it/s]"
     ]
    },
    {
     "name": "stdout",
     "output_type": "stream",
     "text": [
      "Evaluating candidate model on baseline dataset (callback epoch = 5)\n"
     ]
    },
    {
     "name": "stderr",
     "output_type": "stream",
     "text": [
      "Rollout greedy execution: 100%|██████████| 10/10 [00:05<00:00,  1.98it/s]\n",
      "Rollout greedy execution:   0%|          | 0/10 [00:00<?, ?it/s]"
     ]
    },
    {
     "name": "stdout",
     "output_type": "stream",
     "text": [
      "Epoch 5 candidate mean 21.583513259887695, baseline epoch 5 mean 21.515504837036133, difference 0.0680084228515625\n"
     ]
    },
    {
     "name": "stderr",
     "output_type": "stream",
     "text": [
      "Rollout greedy execution: 100%|██████████| 10/10 [00:05<00:00,  1.93it/s]\n",
      "Rollout greedy execution:   0%|          | 0/1 [00:00<?, ?it/s]"
     ]
    },
    {
     "name": "stdout",
     "output_type": "stream",
     "text": [
      "Validation score: 21.646299362182617\n",
      "2021-03-26 19:14:12 Epoch 5: Loss: -979.36279296875: Cost: 28.817607879638672\n"
     ]
    },
    {
     "name": "stderr",
     "output_type": "stream",
     "text": [
      "Rollout greedy execution: 100%|██████████| 1/1 [00:00<00:00,  3.15it/s]\n",
      "batch calculation at epoch 6: 0it [00:00, ?it/s]"
     ]
    },
    {
     "name": "stdout",
     "output_type": "stream",
     "text": [
      "Current decode type: sampling\n"
     ]
    },
    {
     "name": "stderr",
     "output_type": "stream",
     "text": [
      "\r",
      "batch calculation at epoch 6: 1it [00:00,  3.81it/s]"
     ]
    },
    {
     "name": "stdout",
     "output_type": "stream",
     "text": [
      "grad_global_norm = 7.011922359466553, clipped_norm = 0.9999998807907104\n",
      "Epoch 6 (batch = 0): Loss: -869.5421752929688: Cost: 28.045907974243164\n"
     ]
    },
    {
     "name": "stderr",
     "output_type": "stream",
     "text": [
      "batch calculation at epoch 6: 4it [00:01,  3.80it/s]\n",
      "Rollout greedy execution:   0%|          | 0/10 [00:00<?, ?it/s]"
     ]
    },
    {
     "name": "stdout",
     "output_type": "stream",
     "text": [
      "Evaluating candidate model on baseline dataset (callback epoch = 6)\n"
     ]
    },
    {
     "name": "stderr",
     "output_type": "stream",
     "text": [
      "Rollout greedy execution: 100%|██████████| 10/10 [00:05<00:00,  1.98it/s]\n",
      "Rollout greedy execution:   0%|          | 0/10 [00:00<?, ?it/s]"
     ]
    },
    {
     "name": "stdout",
     "output_type": "stream",
     "text": [
      "Epoch 6 candidate mean 21.598543167114258, baseline epoch 6 mean 21.515504837036133, difference 0.083038330078125\n"
     ]
    },
    {
     "name": "stderr",
     "output_type": "stream",
     "text": [
      "Rollout greedy execution: 100%|██████████| 10/10 [00:05<00:00,  1.92it/s]\n",
      "Rollout greedy execution:   0%|          | 0/1 [00:00<?, ?it/s]"
     ]
    },
    {
     "name": "stdout",
     "output_type": "stream",
     "text": [
      "Validation score: 21.634000778198242\n",
      "2021-03-26 19:14:24 Epoch 6: Loss: -860.6257934570312: Cost: 28.015216827392578\n"
     ]
    },
    {
     "name": "stderr",
     "output_type": "stream",
     "text": [
      "Rollout greedy execution: 100%|██████████| 1/1 [00:00<00:00,  3.33it/s]\n",
      "batch calculation at epoch 7: 0it [00:00, ?it/s]"
     ]
    },
    {
     "name": "stdout",
     "output_type": "stream",
     "text": [
      "Current decode type: sampling\n"
     ]
    },
    {
     "name": "stderr",
     "output_type": "stream",
     "text": [
      "\r",
      "batch calculation at epoch 7: 1it [00:00,  3.59it/s]"
     ]
    },
    {
     "name": "stdout",
     "output_type": "stream",
     "text": [
      "grad_global_norm = 8.422188758850098, clipped_norm = 0.9999998211860657\n",
      "Epoch 7 (batch = 0): Loss: -755.079833984375: Cost: 27.740154266357422\n"
     ]
    },
    {
     "name": "stderr",
     "output_type": "stream",
     "text": [
      "batch calculation at epoch 7: 4it [00:01,  3.79it/s]\n",
      "Rollout greedy execution:   0%|          | 0/10 [00:00<?, ?it/s]"
     ]
    },
    {
     "name": "stdout",
     "output_type": "stream",
     "text": [
      "Evaluating candidate model on baseline dataset (callback epoch = 7)\n"
     ]
    },
    {
     "name": "stderr",
     "output_type": "stream",
     "text": [
      "Rollout greedy execution: 100%|██████████| 10/10 [00:05<00:00,  1.98it/s]\n",
      "Rollout greedy execution:   0%|          | 0/10 [00:00<?, ?it/s]"
     ]
    },
    {
     "name": "stdout",
     "output_type": "stream",
     "text": [
      "Epoch 7 candidate mean 21.57574462890625, baseline epoch 7 mean 21.515504837036133, difference 0.06023979187011719\n"
     ]
    },
    {
     "name": "stderr",
     "output_type": "stream",
     "text": [
      "Rollout greedy execution: 100%|██████████| 10/10 [00:05<00:00,  1.93it/s]\n",
      "Rollout greedy execution:   0%|          | 0/1 [00:00<?, ?it/s]"
     ]
    },
    {
     "name": "stdout",
     "output_type": "stream",
     "text": [
      "Validation score: 21.62619972229004\n",
      "2021-03-26 19:14:35 Epoch 7: Loss: -721.4273071289062: Cost: 27.24472999572754\n"
     ]
    },
    {
     "name": "stderr",
     "output_type": "stream",
     "text": [
      "Rollout greedy execution: 100%|██████████| 1/1 [00:00<00:00,  3.44it/s]\n",
      "batch calculation at epoch 8: 0it [00:00, ?it/s]"
     ]
    },
    {
     "name": "stdout",
     "output_type": "stream",
     "text": [
      "Current decode type: sampling\n"
     ]
    },
    {
     "name": "stderr",
     "output_type": "stream",
     "text": [
      "\r",
      "batch calculation at epoch 8: 1it [00:00,  3.93it/s]"
     ]
    },
    {
     "name": "stdout",
     "output_type": "stream",
     "text": [
      "grad_global_norm = 31.053983688354492, clipped_norm = 0.9999999403953552\n",
      "Epoch 8 (batch = 0): Loss: -658.1039428710938: Cost: 27.02971839904785\n"
     ]
    },
    {
     "name": "stderr",
     "output_type": "stream",
     "text": [
      "batch calculation at epoch 8: 4it [00:01,  3.79it/s]\n",
      "Rollout greedy execution:   0%|          | 0/10 [00:00<?, ?it/s]"
     ]
    },
    {
     "name": "stdout",
     "output_type": "stream",
     "text": [
      "Evaluating candidate model on baseline dataset (callback epoch = 8)\n"
     ]
    },
    {
     "name": "stderr",
     "output_type": "stream",
     "text": [
      "Rollout greedy execution: 100%|██████████| 10/10 [00:05<00:00,  1.97it/s]\n",
      "Rollout greedy execution:   0%|          | 0/10 [00:00<?, ?it/s]"
     ]
    },
    {
     "name": "stdout",
     "output_type": "stream",
     "text": [
      "Epoch 8 candidate mean 21.55893898010254, baseline epoch 8 mean 21.515504837036133, difference 0.04343414306640625\n"
     ]
    },
    {
     "name": "stderr",
     "output_type": "stream",
     "text": [
      "Rollout greedy execution: 100%|██████████| 10/10 [00:05<00:00,  1.90it/s]\n",
      "Rollout greedy execution:   0%|          | 0/1 [00:00<?, ?it/s]"
     ]
    },
    {
     "name": "stdout",
     "output_type": "stream",
     "text": [
      "Validation score: 21.583499908447266\n",
      "2021-03-26 19:14:47 Epoch 8: Loss: -582.0236206054688: Cost: 26.49381446838379\n"
     ]
    },
    {
     "name": "stderr",
     "output_type": "stream",
     "text": [
      "Rollout greedy execution: 100%|██████████| 1/1 [00:00<00:00,  3.28it/s]\n",
      "batch calculation at epoch 9: 0it [00:00, ?it/s]"
     ]
    },
    {
     "name": "stdout",
     "output_type": "stream",
     "text": [
      "Current decode type: sampling\n"
     ]
    },
    {
     "name": "stderr",
     "output_type": "stream",
     "text": [
      "\r",
      "batch calculation at epoch 9: 1it [00:00,  3.83it/s]"
     ]
    },
    {
     "name": "stdout",
     "output_type": "stream",
     "text": [
      "grad_global_norm = 31.40805435180664, clipped_norm = 0.9999998807907104\n",
      "Epoch 9 (batch = 0): Loss: -516.3910522460938: Cost: 25.730493545532227\n"
     ]
    },
    {
     "name": "stderr",
     "output_type": "stream",
     "text": [
      "batch calculation at epoch 9: 4it [00:01,  3.73it/s]\n",
      "Rollout greedy execution:   0%|          | 0/10 [00:00<?, ?it/s]"
     ]
    },
    {
     "name": "stdout",
     "output_type": "stream",
     "text": [
      "Evaluating candidate model on baseline dataset (callback epoch = 9)\n"
     ]
    },
    {
     "name": "stderr",
     "output_type": "stream",
     "text": [
      "Rollout greedy execution: 100%|██████████| 10/10 [00:05<00:00,  1.95it/s]\n",
      "Rollout greedy execution:   0%|          | 0/10 [00:00<?, ?it/s]"
     ]
    },
    {
     "name": "stdout",
     "output_type": "stream",
     "text": [
      "Epoch 9 candidate mean 21.534955978393555, baseline epoch 9 mean 21.515504837036133, difference 0.019451141357421875\n"
     ]
    },
    {
     "name": "stderr",
     "output_type": "stream",
     "text": [
      "Rollout greedy execution: 100%|██████████| 10/10 [00:05<00:00,  1.91it/s]\n"
     ]
    },
    {
     "name": "stdout",
     "output_type": "stream",
     "text": [
      "Validation score: 21.54669952392578\n",
      "2021-03-26 19:14:59 Epoch 9: Loss: -432.20477294921875: Cost: 25.310142517089844\n"
     ]
    },
    {
     "data": {
      "image/png": "[encoded data removed]",
      "text/plain": [
       "<Figure size 1080x648 with 2 Axes>"
      ]
     },
     "metadata": {
      "needs_background": "light"
     },
     "output_type": "display_data"
    }
   ],
   "source": [
    "import torch\n",
    "from time import gmtime, strftime\n",
    "\n",
    "from attention_dynamic_model import set_decode_type\n",
    "from reinforce_baseline import RolloutBaseline\n",
    "from train import train_model\n",
    "\n",
    "from utils import get_cur_time\n",
    "from reinforce_baseline import load_pt_model\n",
    "from utils import read_from_pickle\n",
    "\n",
    "\n",
    "SAMPLES = 512 # 128*10000\n",
    "BATCH = 128\n",
    "LEARNING_RATE = 0.0001\n",
    "ROLLOUT_SAMPLES = 10000\n",
    "NUMBER_OF_WP_EPOCHS = 1\n",
    "GRAD_NORM_CLIPPING = 1.0\n",
    "BATCH_VERBOSE = 1000\n",
    "VAL_BATCH_SIZE = 1000\n",
    "VALIDATE_SET_SIZE = 10000\n",
    "SEED = 1234\n",
    "GRAPH_SIZE = 50\n",
    "FILENAME = 'VRP_{}_{}'.format(GRAPH_SIZE, strftime(\"%Y-%m-%d\", gmtime()))\n",
    "\n",
    "START_EPOCH = 5\n",
    "END_EPOCH = 10\n",
    "FROM_CHECKPOINT = True\n",
    "embedding_dim = 128\n",
    "MODEL_PATH = 'checkpts/model_checkpoint_epoch_4_VRP_50_2021-03-27'\n",
    "VAL_SET_PATH = 'valsets/Validation_dataset_VRP_50_2021-03-27.pkl'\n",
    "BASELINE_MODEL_PATH = 'checkpts/baseline_checkpoint_epoch_3_VRP_50_2021-03-27'\n",
    "\n",
    "# Initialize model\n",
    "model = load_pt_model(MODEL_PATH,\n",
    "                         embedding_dim=embedding_dim,\n",
    "                         graph_size=GRAPH_SIZE, device='cuda')\n",
    "set_decode_type(model, \"sampling\")\n",
    "print(get_cur_time(), 'model loaded')\n",
    "\n",
    "# Create and save validation dataset\n",
    "validation_dataset = read_from_pickle(VAL_SET_PATH)\n",
    "print(get_cur_time(), 'validation dataset loaded')\n",
    "\n",
    "# Initialize optimizer\n",
    "optimizer = torch.optim.Adam(params=model.parameters(), lr=LEARNING_RATE)\n",
    "\n",
    "# Initialize baseline\n",
    "baseline = RolloutBaseline(model,\n",
    "                           wp_n_epochs = NUMBER_OF_WP_EPOCHS,\n",
    "                           epoch = START_EPOCH,\n",
    "                           num_samples=ROLLOUT_SAMPLES,\n",
    "                           filename = FILENAME,\n",
    "                           from_checkpoint = FROM_CHECKPOINT,\n",
    "                           embedding_dim=embedding_dim,\n",
    "                           graph_size=GRAPH_SIZE,\n",
    "                           path_to_checkpoint = BASELINE_MODEL_PATH)\n",
    "print(get_cur_time(), 'baseline initialized')\n",
    "train_model(optimizer,\n",
    "            model,\n",
    "            baseline,\n",
    "            validation_dataset,\n",
    "            samples = SAMPLES,\n",
    "            batch = BATCH,\n",
    "            val_batch_size = VAL_BATCH_SIZE,\n",
    "            start_epoch = START_EPOCH,\n",
    "            end_epoch = END_EPOCH,\n",
    "            from_checkpoint = FROM_CHECKPOINT,\n",
    "            grad_norm_clipping = GRAD_NORM_CLIPPING,\n",
    "            batch_verbose = BATCH_VERBOSE,\n",
    "            graph_size = GRAPH_SIZE,\n",
    "            filename = FILENAME\n",
    "            )"
   ]
  }
 ],
 "metadata": {
  "kernelspec": {
   "display_name": "Python 3",
   "language": "python",
   "name": "python3"
  },
  "language_info": {
   "codemirror_mode": {
    "name": "ipython",
    "version": 3
   },
   "file_extension": ".py",
   "mimetype": "text/x-python",
   "name": "python",
   "nbconvert_exporter": "python",
   "pygments_lexer": "ipython3",
   "version": "3.8.5"
  },
  "varInspector": {
   "cols": {
    "lenName": 16,
    "lenType": 16,
    "lenVar": 40
   },
   "kernels_config": {
    "python": {
     "delete_cmd_postfix": "",
     "delete_cmd_prefix": "del ",
     "library": "var_list.py",
     "varRefreshCmd": "print(var_dic_list())"
    },
    "r": {
     "delete_cmd_postfix": ") ",
     "delete_cmd_prefix": "rm(",
     "library": "var_list.r",
     "varRefreshCmd": "cat(var_dic_list()) "
    }
   },
   "types_to_exclude": [
    "module",
    "function",
    "builtin_function_or_method",
    "instance",
    "_Feature"
   ],
   "window_display": false
  }
 },
 "nbformat": 4,
 "nbformat_minor": 5
}
