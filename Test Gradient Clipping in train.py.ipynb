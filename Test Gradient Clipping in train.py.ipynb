{
 "cells": [
  {
   "cell_type": "markdown",
   "metadata": {},
   "source": [
    "### Results in Pytorch"
   ]
  },
  {
   "cell_type": "code",
   "execution_count": 1,
   "metadata": {},
   "outputs": [],
   "source": [
    "import torch\n",
    "import torch.nn as nn"
   ]
  },
  {
   "cell_type": "code",
   "execution_count": 2,
   "metadata": {},
   "outputs": [],
   "source": [
    "# A loss function\n",
    "def my_loss(output, target):\n",
    "    loss = torch.mean((output - target)**2)\n",
    "    return loss"
   ]
  },
  {
   "cell_type": "code",
   "execution_count": 16,
   "metadata": {},
   "outputs": [],
   "source": [
    "# Set model and calculate loss\n",
    "\n",
    "model = nn.Linear(2, 2)\n",
    "\n",
    "torch.manual_seed(0)\n",
    "x = torch.randn(1, 2)\n",
    "\n",
    "torch.manual_seed(5)\n",
    "target = torch.randn(1, 2)\n",
    "output = model(x)\n",
    "\n",
    "loss = my_loss(output, target)\n",
    "loss.backward()"
   ]
  },
  {
   "cell_type": "code",
   "execution_count": 17,
   "metadata": {},
   "outputs": [],
   "source": [
    "# Obtain the grads\n",
    "grads = [param.grad.view(-1) for param in model.parameters()]\n",
    "grads = torch.cat(grads)"
   ]
  },
  {
   "cell_type": "code",
   "execution_count": 18,
   "metadata": {},
   "outputs": [],
   "source": [
    "init_global_norm = torch.linalg.norm(grads)\n",
    "torch.nn.utils.clip_grad_norm_(model.parameters(),1)\n",
    "grads = [param.grad.view(-1) for param in model.parameters()]\n",
    "grads = torch.cat(grads)\n",
    "\n",
    "global_norm = torch.linalg.norm(grads)"
   ]
  },
  {
   "cell_type": "code",
   "execution_count": 19,
   "metadata": {},
   "outputs": [
    {
     "name": "stdout",
     "output_type": "stream",
     "text": [
      "grad_global_norm = 1.8932563066482544, clipped_norm = 0.9999995231628418\n"
     ]
    }
   ],
   "source": [
    "print(\"grad_global_norm = {}, clipped_norm = {}\".format(init_global_norm.numpy(), global_norm.numpy()))"
   ]
  },
  {
   "cell_type": "markdown",
   "metadata": {},
   "source": [
    "### Results in Tensorflow"
   ]
  },
  {
   "cell_type": "code",
   "execution_count": 7,
   "metadata": {},
   "outputs": [],
   "source": [
    "import tensorflow as tf"
   ]
  },
  {
   "cell_type": "code",
   "execution_count": 8,
   "metadata": {},
   "outputs": [],
   "source": [
    "# Set model and calculate loss\n",
    "\n",
    "model = nn.Linear(2, 2)\n",
    "\n",
    "torch.manual_seed(0)\n",
    "x = torch.randn(1, 2)\n",
    "\n",
    "torch.manual_seed(5)\n",
    "target = torch.randn(1, 2)\n",
    "output = model(x)\n",
    "\n",
    "loss = my_loss(output, target)\n",
    "loss.backward()"
   ]
  },
  {
   "cell_type": "code",
   "execution_count": 9,
   "metadata": {},
   "outputs": [],
   "source": [
    "# Obtain the grads\n",
    "grads_tf = [param.grad for param in model.parameters()]"
   ]
  },
  {
   "cell_type": "code",
   "execution_count": 10,
   "metadata": {},
   "outputs": [],
   "source": [
    "init_global_norm = tf.linalg.global_norm(grads_tf)\n",
    "grads_tf, _ = tf.clip_by_global_norm(grads_tf, 1)\n",
    "global_norm = tf.linalg.global_norm(grads_tf)"
   ]
  },
  {
   "cell_type": "code",
   "execution_count": 11,
   "metadata": {},
   "outputs": [
    {
     "name": "stdout",
     "output_type": "stream",
     "text": [
      "grad_global_norm = 1.8932563066482544, clipped_norm = 0.9999999403953552\n"
     ]
    }
   ],
   "source": [
    "print(\"grad_global_norm = {}, clipped_norm = {}\".format(init_global_norm.numpy(), global_norm.numpy()))"
   ]
  }
 ],
 "metadata": {
  "kernelspec": {
   "display_name": "Python 3",
   "language": "python",
   "name": "python3"
  },
  "language_info": {
   "codemirror_mode": {
    "name": "ipython",
    "version": 3
   },
   "file_extension": ".py",
   "mimetype": "text/x-python",
   "name": "python",
   "nbconvert_exporter": "python",
   "pygments_lexer": "ipython3",
   "version": "3.8.3"
  }
 },
 "nbformat": 4,
 "nbformat_minor": 4
}
